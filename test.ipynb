{
 "cells": [
  {
   "cell_type": "code",
   "execution_count": null,
   "id": "47a84d1d",
   "metadata": {},
   "outputs": [],
   "source": [
    "import pandas as pd\n",
    "\n",
    "tier_order = [\"low\", \"medium\", \"high\"]\n",
    "price_tier_map = {\"low\": 0, \"medium\": 1, \"high\": 2}\n",
    "\n",
    "df_soccer = pd.read_csv(\"data/soccer_kmc.csv\")\n",
    "df_soccer[\"price_tier\"] = pd.Categorical(df_soccer[\"price_tier\"], categories=tier_order, ordered=True)\n",
    "df_soccer[\"price_tier_encoded\"] = df_soccer[\"price_tier\"].map(price_tier_map).astype(int)\n",
    "\n",
    "df_soccer = df_soccer[~df_soccer[\"title\"].str.contains(\"patch\", case=False, na=False)]\n",
    "\n",
    "#df_soccer.to_csv(\"soccer_test.csv\")\n"
   ]
  }
 ],
 "metadata": {
  "kernelspec": {
   "display_name": "base",
   "language": "python",
   "name": "python3"
  },
  "language_info": {
   "codemirror_mode": {
    "name": "ipython",
    "version": 3
   },
   "file_extension": ".py",
   "mimetype": "text/x-python",
   "name": "python",
   "nbconvert_exporter": "python",
   "pygments_lexer": "ipython3",
   "version": "3.10.16"
  }
 },
 "nbformat": 4,
 "nbformat_minor": 5
}
